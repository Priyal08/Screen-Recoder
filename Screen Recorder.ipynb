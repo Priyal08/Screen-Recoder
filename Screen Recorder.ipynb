{
 "cells": [
  {
   "cell_type": "code",
   "execution_count": 1,
   "metadata": {},
   "outputs": [],
   "source": [
    "import pyautogui\n",
    "import cv2\n",
    "import numpy as np"
   ]
  },
  {
   "cell_type": "code",
   "execution_count": 2,
   "metadata": {},
   "outputs": [],
   "source": [
    "resolution=(1920,1080)"
   ]
  },
  {
   "cell_type": "code",
   "execution_count": 3,
   "metadata": {},
   "outputs": [],
   "source": [
    "#specifying video codec\n",
    "codec=cv2.VideoWriter_fourcc(*\"XVID\")\n",
    "#name of the output file\n",
    "filename=\"Myvideo.avi\"\n"
   ]
  },
  {
   "cell_type": "code",
   "execution_count": 4,
   "metadata": {},
   "outputs": [],
   "source": [
    "#frames rate\n",
    "fps=25.0"
   ]
  },
  {
   "cell_type": "code",
   "execution_count": 5,
   "metadata": {},
   "outputs": [],
   "source": [
    "result=cv2.VideoWriter(filename, codec, fps, resolution)"
   ]
  },
  {
   "cell_type": "code",
   "execution_count": 6,
   "metadata": {},
   "outputs": [],
   "source": [
    "#creating an empty window\n",
    "cv2.namedWindow(\"First Video\", cv2.WINDOW_NORMAL)\n"
   ]
  },
  {
   "cell_type": "code",
   "execution_count": 7,
   "metadata": {},
   "outputs": [],
   "source": [
    "#resize the window\n",
    "cv2.resizeWindow(\"First Video\",480,290)"
   ]
  },
  {
   "cell_type": "code",
   "execution_count": 8,
   "metadata": {},
   "outputs": [],
   "source": [
    "while True:\n",
    "    #take screenshot using PyAutoGUI\n",
    "    ss=pyautogui.screenshot()\n",
    "    \n",
    "    #converting the image into a numpy array\n",
    "    frame=np.array(ss)\n",
    "    \n",
    "    #converting it from BGR to RGB(Red,Blue,Green)\n",
    "    frame=cv2.cvtColor(frame, cv2.COLOR_BGR2RGB)\n",
    "    \n",
    "    #writing it to the final result file\n",
    "    result.write(frame)\n",
    "    \n",
    "    #display the recording screen\n",
    "    cv2.imshow('First Video',frame)\n",
    "    \n",
    "    #stop recording on pressing \"s\"\n",
    "    if cv2.waitKey(1)==ord('s'):\n",
    "        break\n",
    "\n",
    "#release the video writer\n",
    "result.release()\n",
    "\n",
    "#destroy all windows\n",
    "cv2.destroyAllWindows()\n"
   ]
  },
  {
   "cell_type": "code",
   "execution_count": null,
   "metadata": {},
   "outputs": [],
   "source": []
  }
 ],
 "metadata": {
  "kernelspec": {
   "display_name": "Python 3",
   "language": "python",
   "name": "python3"
  },
  "language_info": {
   "codemirror_mode": {
    "name": "ipython",
    "version": 3
   },
   "file_extension": ".py",
   "mimetype": "text/x-python",
   "name": "python",
   "nbconvert_exporter": "python",
   "pygments_lexer": "ipython3",
   "version": "3.8.5"
  }
 },
 "nbformat": 4,
 "nbformat_minor": 4
}
